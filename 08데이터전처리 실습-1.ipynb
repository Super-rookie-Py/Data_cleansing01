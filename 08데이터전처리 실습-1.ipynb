{
 "cells": [
  {
   "cell_type": "markdown",
   "metadata": {},
   "source": [
    "## 08데이터 전처리 실습-1\n",
    "### 파이썬 클래스 설정\n",
    "#### 2020/06/07 keonwoo Park"
   ]
  },
  {
   "cell_type": "code",
   "execution_count": 13,
   "metadata": {},
   "outputs": [],
   "source": [
    "class Calculator:\n",
    "    def __init__(self):   # 생성자 함수. 실제 객체(인스턴스)하나 만듬\n",
    "        self.result = 0\n",
    "    \n",
    "    def add(self, num):\n",
    "        self.result += num\n",
    "        return self.result"
   ]
  },
  {
   "cell_type": "code",
   "execution_count": 24,
   "metadata": {},
   "outputs": [
    {
     "name": "stdout",
     "output_type": "stream",
     "text": [
      "3\n",
      "7\n",
      "3\n",
      "10\n"
     ]
    }
   ],
   "source": [
    "cal1 = Calculator()\n",
    "cal2 = Calculator()\n",
    "\n",
    "print(cal1.add(3))\n",
    "print(cal1.add(4))\n",
    "print(cal2.add(3))\n",
    "print(cal2.add(7))"
   ]
  },
  {
   "cell_type": "markdown",
   "metadata": {},
   "source": [
    "### text파일로 함수를지정해두면 import를 통해서 불러올 수 있다.\n",
    "#### 충격.."
   ]
  },
  {
   "cell_type": "code",
   "execution_count": 20,
   "metadata": {},
   "outputs": [],
   "source": [
    "import mod1"
   ]
  },
  {
   "cell_type": "code",
   "execution_count": 22,
   "metadata": {},
   "outputs": [
    {
     "data": {
      "text/plain": [
       "12"
      ]
     },
     "execution_count": 22,
     "metadata": {},
     "output_type": "execute_result"
    }
   ],
   "source": [
    "mod1.add(5,7)"
   ]
  },
  {
   "cell_type": "code",
   "execution_count": 25,
   "metadata": {},
   "outputs": [
    {
     "data": {
      "text/plain": [
       "-10"
      ]
     },
     "execution_count": 25,
     "metadata": {},
     "output_type": "execute_result"
    }
   ],
   "source": [
    "mod1.sub(20, 30)"
   ]
  },
  {
   "cell_type": "markdown",
   "metadata": {},
   "source": [
    "## 데이터 정제(Data cleansing)\n",
    "#### 결측값\n",
    "- 데이터 개체 또는 속성의 제거\n",
    "- 수동으로 입력\n",
    "- 전역상수 입력\n",
    "- 결측값 무시\n",
    "- 결측값의 추정 (전체 평균값, 같은 클래스의 평균값, 가장 가능성이 높은 값)\n",
    "\n",
    "#### 잡음 제거\n",
    "- 구간화\n",
    "- 회귀\n",
    "- 군집화"
   ]
  },
  {
   "cell_type": "markdown",
   "metadata": {},
   "source": [
    "## 결측값 처리(1)"
   ]
  },
  {
   "cell_type": "code",
   "execution_count": 26,
   "metadata": {},
   "outputs": [],
   "source": [
    "import pandas as pd\n",
    "import numpy as np"
   ]
  },
  {
   "cell_type": "code",
   "execution_count": 29,
   "metadata": {},
   "outputs": [],
   "source": [
    "data = pd.read_csv(\"약수터수질현황.csv\")"
   ]
  },
  {
   "cell_type": "code",
   "execution_count": 35,
   "metadata": {},
   "outputs": [],
   "source": [
    "data_1 = data.set_index(\"연번\")"
   ]
  },
  {
   "cell_type": "code",
   "execution_count": 68,
   "metadata": {},
   "outputs": [
    {
     "data": {
      "text/html": [
       "<div>\n",
       "<style scoped>\n",
       "    .dataframe tbody tr th:only-of-type {\n",
       "        vertical-align: middle;\n",
       "    }\n",
       "\n",
       "    .dataframe tbody tr th {\n",
       "        vertical-align: top;\n",
       "    }\n",
       "\n",
       "    .dataframe thead th {\n",
       "        text-align: right;\n",
       "    }\n",
       "</style>\n",
       "<table border=\"1\" class=\"dataframe\">\n",
       "  <thead>\n",
       "    <tr style=\"text-align: right;\">\n",
       "      <th></th>\n",
       "      <th>약수터명</th>\n",
       "      <th>동명</th>\n",
       "      <th>총대장균군</th>\n",
       "      <th>일반세균</th>\n",
       "      <th>질산성질소</th>\n",
       "      <th>적합</th>\n",
       "    </tr>\n",
       "    <tr>\n",
       "      <th>연번</th>\n",
       "      <th></th>\n",
       "      <th></th>\n",
       "      <th></th>\n",
       "      <th></th>\n",
       "      <th></th>\n",
       "      <th></th>\n",
       "    </tr>\n",
       "  </thead>\n",
       "  <tbody>\n",
       "    <tr>\n",
       "      <th>1</th>\n",
       "      <td>백수</td>\n",
       "      <td>모라</td>\n",
       "      <td>양 성</td>\n",
       "      <td>10.0</td>\n",
       "      <td>6.7</td>\n",
       "      <td>부적합</td>\n",
       "    </tr>\n",
       "    <tr>\n",
       "      <th>2</th>\n",
       "      <td>이칠</td>\n",
       "      <td>모라</td>\n",
       "      <td>음 성</td>\n",
       "      <td>20.0</td>\n",
       "      <td>0.9</td>\n",
       "      <td>적합</td>\n",
       "    </tr>\n",
       "    <tr>\n",
       "      <th>3</th>\n",
       "      <td>운수사</td>\n",
       "      <td>모라</td>\n",
       "      <td>음 성</td>\n",
       "      <td>10.0</td>\n",
       "      <td>1.1</td>\n",
       "      <td>적합</td>\n",
       "    </tr>\n",
       "    <tr>\n",
       "      <th>4</th>\n",
       "      <td>서당골</td>\n",
       "      <td>모라</td>\n",
       "      <td>음 성</td>\n",
       "      <td>10.0</td>\n",
       "      <td>NaN</td>\n",
       "      <td>적합</td>\n",
       "    </tr>\n",
       "    <tr>\n",
       "      <th>5</th>\n",
       "      <td>청수</td>\n",
       "      <td>괘법</td>\n",
       "      <td>음 성</td>\n",
       "      <td>20.0</td>\n",
       "      <td>2.7</td>\n",
       "      <td>적합</td>\n",
       "    </tr>\n",
       "  </tbody>\n",
       "</table>\n",
       "</div>"
      ],
      "text/plain": [
       "   약수터명  동명 총대장균군  일반세균  질산성질소   적합\n",
       "연번                                 \n",
       "1    백수  모라   양 성  10.0    6.7  부적합\n",
       "2    이칠  모라   음 성  20.0    0.9   적합\n",
       "3   운수사  모라   음 성  10.0    1.1   적합\n",
       "4   서당골  모라   음 성  10.0    NaN   적합\n",
       "5    청수  괘법   음 성  20.0    2.7   적합"
      ]
     },
     "execution_count": 68,
     "metadata": {},
     "output_type": "execute_result"
    }
   ],
   "source": [
    "data_1.head()"
   ]
  },
  {
   "cell_type": "code",
   "execution_count": 42,
   "metadata": {},
   "outputs": [
    {
     "name": "stdout",
     "output_type": "stream",
     "text": [
      "<class 'pandas.core.frame.DataFrame'>\n",
      "Int64Index: 24 entries, 1 to 24\n",
      "Data columns (total 6 columns):\n",
      " #   Column  Non-Null Count  Dtype  \n",
      "---  ------  --------------  -----  \n",
      " 0   약수터명    24 non-null     object \n",
      " 1   동명      24 non-null     object \n",
      " 2   총대장균군   24 non-null     object \n",
      " 3   일반세균    22 non-null     float64\n",
      " 4   질산성질소   22 non-null     float64\n",
      " 5   적합      24 non-null     object \n",
      "dtypes: float64(2), object(4)\n",
      "memory usage: 1.3+ KB\n"
     ]
    }
   ],
   "source": [
    "data_1.info()"
   ]
  },
  {
   "cell_type": "markdown",
   "metadata": {},
   "source": [
    "### 결측값을 갖는 튜플을 무시한다.(해당 행을 제거하는 방법)"
   ]
  },
  {
   "cell_type": "code",
   "execution_count": 69,
   "metadata": {},
   "outputs": [
    {
     "data": {
      "text/html": [
       "<div>\n",
       "<style scoped>\n",
       "    .dataframe tbody tr th:only-of-type {\n",
       "        vertical-align: middle;\n",
       "    }\n",
       "\n",
       "    .dataframe tbody tr th {\n",
       "        vertical-align: top;\n",
       "    }\n",
       "\n",
       "    .dataframe thead th {\n",
       "        text-align: right;\n",
       "    }\n",
       "</style>\n",
       "<table border=\"1\" class=\"dataframe\">\n",
       "  <thead>\n",
       "    <tr style=\"text-align: right;\">\n",
       "      <th></th>\n",
       "      <th>약수터명</th>\n",
       "      <th>동명</th>\n",
       "      <th>총대장균군</th>\n",
       "      <th>일반세균</th>\n",
       "      <th>질산성질소</th>\n",
       "      <th>적합</th>\n",
       "    </tr>\n",
       "    <tr>\n",
       "      <th>연번</th>\n",
       "      <th></th>\n",
       "      <th></th>\n",
       "      <th></th>\n",
       "      <th></th>\n",
       "      <th></th>\n",
       "      <th></th>\n",
       "    </tr>\n",
       "  </thead>\n",
       "  <tbody>\n",
       "    <tr>\n",
       "      <th>1</th>\n",
       "      <td>백수</td>\n",
       "      <td>모라</td>\n",
       "      <td>양 성</td>\n",
       "      <td>10.0</td>\n",
       "      <td>6.7</td>\n",
       "      <td>부적합</td>\n",
       "    </tr>\n",
       "    <tr>\n",
       "      <th>2</th>\n",
       "      <td>이칠</td>\n",
       "      <td>모라</td>\n",
       "      <td>음 성</td>\n",
       "      <td>20.0</td>\n",
       "      <td>0.9</td>\n",
       "      <td>적합</td>\n",
       "    </tr>\n",
       "    <tr>\n",
       "      <th>3</th>\n",
       "      <td>운수사</td>\n",
       "      <td>모라</td>\n",
       "      <td>음 성</td>\n",
       "      <td>10.0</td>\n",
       "      <td>1.1</td>\n",
       "      <td>적합</td>\n",
       "    </tr>\n",
       "    <tr>\n",
       "      <th>5</th>\n",
       "      <td>청수</td>\n",
       "      <td>괘법</td>\n",
       "      <td>음 성</td>\n",
       "      <td>20.0</td>\n",
       "      <td>2.7</td>\n",
       "      <td>적합</td>\n",
       "    </tr>\n",
       "    <tr>\n",
       "      <th>6</th>\n",
       "      <td>사상</td>\n",
       "      <td>괘법</td>\n",
       "      <td>음 성</td>\n",
       "      <td>10.0</td>\n",
       "      <td>2.2</td>\n",
       "      <td>적합</td>\n",
       "    </tr>\n",
       "  </tbody>\n",
       "</table>\n",
       "</div>"
      ],
      "text/plain": [
       "   약수터명  동명 총대장균군  일반세균  질산성질소   적합\n",
       "연번                                 \n",
       "1    백수  모라   양 성  10.0    6.7  부적합\n",
       "2    이칠  모라   음 성  20.0    0.9   적합\n",
       "3   운수사  모라   음 성  10.0    1.1   적합\n",
       "5    청수  괘법   음 성  20.0    2.7   적합\n",
       "6    사상  괘법   음 성  10.0    2.2   적합"
      ]
     },
     "execution_count": 69,
     "metadata": {},
     "output_type": "execute_result"
    }
   ],
   "source": [
    "missing_data = data_1.dropna() # .dropba() 널값을 갖는 행을 제거한다.\n",
    "missing_data.head()"
   ]
  },
  {
   "cell_type": "markdown",
   "metadata": {},
   "source": [
    "### 전역상수를 사용하여 결측값을 채워 넣는다.\n",
    "### 모든 널값을 하나의 값으로 통일하는 것"
   ]
  },
  {
   "cell_type": "code",
   "execution_count": 56,
   "metadata": {},
   "outputs": [],
   "source": [
    "fill_constant_data = data_1.fillna(0)"
   ]
  },
  {
   "cell_type": "code",
   "execution_count": 59,
   "metadata": {},
   "outputs": [
    {
     "data": {
      "text/html": [
       "<div>\n",
       "<style scoped>\n",
       "    .dataframe tbody tr th:only-of-type {\n",
       "        vertical-align: middle;\n",
       "    }\n",
       "\n",
       "    .dataframe tbody tr th {\n",
       "        vertical-align: top;\n",
       "    }\n",
       "\n",
       "    .dataframe thead th {\n",
       "        text-align: right;\n",
       "    }\n",
       "</style>\n",
       "<table border=\"1\" class=\"dataframe\">\n",
       "  <thead>\n",
       "    <tr style=\"text-align: right;\">\n",
       "      <th></th>\n",
       "      <th>약수터명</th>\n",
       "      <th>동명</th>\n",
       "      <th>총대장균군</th>\n",
       "      <th>일반세균</th>\n",
       "      <th>질산성질소</th>\n",
       "      <th>적합</th>\n",
       "    </tr>\n",
       "    <tr>\n",
       "      <th>연번</th>\n",
       "      <th></th>\n",
       "      <th></th>\n",
       "      <th></th>\n",
       "      <th></th>\n",
       "      <th></th>\n",
       "      <th></th>\n",
       "    </tr>\n",
       "  </thead>\n",
       "  <tbody>\n",
       "    <tr>\n",
       "      <th>4</th>\n",
       "      <td>서당골</td>\n",
       "      <td>모라</td>\n",
       "      <td>음 성</td>\n",
       "      <td>10.0</td>\n",
       "      <td>0.0</td>\n",
       "      <td>적합</td>\n",
       "    </tr>\n",
       "    <tr>\n",
       "      <th>17</th>\n",
       "      <td>밤골</td>\n",
       "      <td>주례</td>\n",
       "      <td>음 성</td>\n",
       "      <td>0.0</td>\n",
       "      <td>0.0</td>\n",
       "      <td>적합</td>\n",
       "    </tr>\n",
       "    <tr>\n",
       "      <th>20</th>\n",
       "      <td>승학</td>\n",
       "      <td>학장</td>\n",
       "      <td>양 성</td>\n",
       "      <td>0.0</td>\n",
       "      <td>0.3</td>\n",
       "      <td>부적합</td>\n",
       "    </tr>\n",
       "  </tbody>\n",
       "</table>\n",
       "</div>"
      ],
      "text/plain": [
       "   약수터명  동명 총대장균군  일반세균  질산성질소   적합\n",
       "연번                                 \n",
       "4   서당골  모라   음 성  10.0    0.0   적합\n",
       "17   밤골  주례   음 성   0.0    0.0   적합\n",
       "20   승학  학장   양 성   0.0    0.3  부적합"
      ]
     },
     "execution_count": 59,
     "metadata": {},
     "output_type": "execute_result"
    }
   ],
   "source": [
    "fill_constant_data.query('연번 in (4,17,20)') # 기존 널값이 존재하던 행들"
   ]
  },
  {
   "cell_type": "markdown",
   "metadata": {},
   "source": [
    "### 속성의 평균값을 사용하여 결측값을 채워 넣기"
   ]
  },
  {
   "cell_type": "code",
   "execution_count": 61,
   "metadata": {},
   "outputs": [
    {
     "data": {
      "text/html": [
       "<div>\n",
       "<style scoped>\n",
       "    .dataframe tbody tr th:only-of-type {\n",
       "        vertical-align: middle;\n",
       "    }\n",
       "\n",
       "    .dataframe tbody tr th {\n",
       "        vertical-align: top;\n",
       "    }\n",
       "\n",
       "    .dataframe thead th {\n",
       "        text-align: right;\n",
       "    }\n",
       "</style>\n",
       "<table border=\"1\" class=\"dataframe\">\n",
       "  <thead>\n",
       "    <tr style=\"text-align: right;\">\n",
       "      <th></th>\n",
       "      <th>약수터명</th>\n",
       "      <th>동명</th>\n",
       "      <th>총대장균군</th>\n",
       "      <th>일반세균</th>\n",
       "      <th>질산성질소</th>\n",
       "      <th>적합</th>\n",
       "    </tr>\n",
       "    <tr>\n",
       "      <th>연번</th>\n",
       "      <th></th>\n",
       "      <th></th>\n",
       "      <th></th>\n",
       "      <th></th>\n",
       "      <th></th>\n",
       "      <th></th>\n",
       "    </tr>\n",
       "  </thead>\n",
       "  <tbody>\n",
       "    <tr>\n",
       "      <th>4</th>\n",
       "      <td>서당골</td>\n",
       "      <td>모라</td>\n",
       "      <td>음 성</td>\n",
       "      <td>10.000000</td>\n",
       "      <td>2.631818</td>\n",
       "      <td>적합</td>\n",
       "    </tr>\n",
       "    <tr>\n",
       "      <th>17</th>\n",
       "      <td>밤골</td>\n",
       "      <td>주례</td>\n",
       "      <td>음 성</td>\n",
       "      <td>20.454545</td>\n",
       "      <td>2.631818</td>\n",
       "      <td>적합</td>\n",
       "    </tr>\n",
       "    <tr>\n",
       "      <th>20</th>\n",
       "      <td>승학</td>\n",
       "      <td>학장</td>\n",
       "      <td>양 성</td>\n",
       "      <td>20.454545</td>\n",
       "      <td>0.300000</td>\n",
       "      <td>부적합</td>\n",
       "    </tr>\n",
       "  </tbody>\n",
       "</table>\n",
       "</div>"
      ],
      "text/plain": [
       "   약수터명  동명 총대장균군       일반세균     질산성질소   적합\n",
       "연번                                         \n",
       "4   서당골  모라   음 성  10.000000  2.631818   적합\n",
       "17   밤골  주례   음 성  20.454545  2.631818   적합\n",
       "20   승학  학장   양 성  20.454545  0.300000  부적합"
      ]
     },
     "execution_count": 61,
     "metadata": {},
     "output_type": "execute_result"
    }
   ],
   "source": [
    "fill_mean_data = data_1.fillna(data_1.mean())\n",
    "fill_mean_data.query(\"연번 in (4, 17, 20)\")"
   ]
  },
  {
   "cell_type": "markdown",
   "metadata": {},
   "source": [
    "### 주어진 튜플과 같은 클래스(분류)에 속하는 튜플들의 속성의 평균"
   ]
  },
  {
   "cell_type": "markdown",
   "metadata": {},
   "source": [
    "#### 열의값을 평균으로만 채워 넣는게아니라.\n",
    "#### 데이터를 분류하여 각각에 맞는 평균값을 넣는 것\n",
    "- \"일반세균\" 전체의 평균이 아닌 일반세균 중의 적합과 부적합 값의 각각의 평균에 맞춰서 집어넣는다.\n",
    "- 일반세균의 널값이 적합이다 -> 적합값들의 평균만 넣어둔다.\n",
    "- 일반세균의 널값이 부적합이다 -> 부적합값들의 평균만 넣어둔다.\n",
    "- groupby('적합')은 적합이라는 열을 그룹으로 나눈것이다.(적합, 부적합 두 개로)"
   ]
  },
  {
   "cell_type": "code",
   "execution_count": 66,
   "metadata": {},
   "outputs": [],
   "source": [
    "copy_data = pd.DataFrame(data_1, copy=True)\n",
    "copy_data['일반세균'].fillna(data_1.groupby(\"적합\")['일반세균'].transform('mean'),inplace=True)\n",
    "copy_data['질산성질소'].fillna(data_1.groupby(\"적합\")['질산성질소'].transform('mean'),inplace=True)"
   ]
  },
  {
   "cell_type": "code",
   "execution_count": 67,
   "metadata": {},
   "outputs": [
    {
     "data": {
      "text/html": [
       "<div>\n",
       "<style scoped>\n",
       "    .dataframe tbody tr th:only-of-type {\n",
       "        vertical-align: middle;\n",
       "    }\n",
       "\n",
       "    .dataframe tbody tr th {\n",
       "        vertical-align: top;\n",
       "    }\n",
       "\n",
       "    .dataframe thead th {\n",
       "        text-align: right;\n",
       "    }\n",
       "</style>\n",
       "<table border=\"1\" class=\"dataframe\">\n",
       "  <thead>\n",
       "    <tr style=\"text-align: right;\">\n",
       "      <th></th>\n",
       "      <th>약수터명</th>\n",
       "      <th>동명</th>\n",
       "      <th>총대장균군</th>\n",
       "      <th>일반세균</th>\n",
       "      <th>질산성질소</th>\n",
       "      <th>적합</th>\n",
       "    </tr>\n",
       "    <tr>\n",
       "      <th>연번</th>\n",
       "      <th></th>\n",
       "      <th></th>\n",
       "      <th></th>\n",
       "      <th></th>\n",
       "      <th></th>\n",
       "      <th></th>\n",
       "    </tr>\n",
       "  </thead>\n",
       "  <tbody>\n",
       "    <tr>\n",
       "      <th>4</th>\n",
       "      <td>서당골</td>\n",
       "      <td>모라</td>\n",
       "      <td>음 성</td>\n",
       "      <td>10.000000</td>\n",
       "      <td>2.706667</td>\n",
       "      <td>적합</td>\n",
       "    </tr>\n",
       "    <tr>\n",
       "      <th>17</th>\n",
       "      <td>밤골</td>\n",
       "      <td>주례</td>\n",
       "      <td>음 성</td>\n",
       "      <td>15.625000</td>\n",
       "      <td>2.706667</td>\n",
       "      <td>적합</td>\n",
       "    </tr>\n",
       "    <tr>\n",
       "      <th>20</th>\n",
       "      <td>승학</td>\n",
       "      <td>학장</td>\n",
       "      <td>양 성</td>\n",
       "      <td>33.333333</td>\n",
       "      <td>0.300000</td>\n",
       "      <td>부적합</td>\n",
       "    </tr>\n",
       "  </tbody>\n",
       "</table>\n",
       "</div>"
      ],
      "text/plain": [
       "   약수터명  동명 총대장균군       일반세균     질산성질소   적합\n",
       "연번                                         \n",
       "4   서당골  모라   음 성  10.000000  2.706667   적합\n",
       "17   밤골  주례   음 성  15.625000  2.706667   적합\n",
       "20   승학  학장   양 성  33.333333  0.300000  부적합"
      ]
     },
     "execution_count": 67,
     "metadata": {},
     "output_type": "execute_result"
    }
   ],
   "source": [
    "copy_data.query(\"연번 in (4, 17, 20)\")"
   ]
  },
  {
   "cell_type": "markdown",
   "metadata": {},
   "source": [
    "### 가장 가능성이 높은 값으로 결측값을 채워 넣기\n",
    "- 데이터간의 상관관계를 통해 결측값을 채워 넣는다."
   ]
  },
  {
   "cell_type": "code",
   "execution_count": 71,
   "metadata": {},
   "outputs": [],
   "source": [
    "from scipy import stats # 선형회귀분석을 위한 패키지"
   ]
  },
  {
   "cell_type": "code",
   "execution_count": 72,
   "metadata": {},
   "outputs": [],
   "source": [
    "# 일반세균과 질산성질소 간의 회귀분석\n",
    "\n",
    "reg_data = pd.DataFrame(data_1, copy=True)"
   ]
  },
  {
   "cell_type": "code",
   "execution_count": 91,
   "metadata": {},
   "outputs": [],
   "source": [
    "# 널값을 제외하고 선형회귀 분석 수행\n",
    "mask = ~np.isnan(reg_data['일반세균']) & ~np.isnan(reg_data['질산성질소'])"
   ]
  },
  {
   "cell_type": "code",
   "execution_count": 97,
   "metadata": {},
   "outputs": [],
   "source": [
    "# 질산성질소가 종속변수일때 회귀분석\n",
    "slope, intercept, r_value, p_value, std_err = stats.linregress(\n",
    "reg_data['일반세균'][mask], reg_data['질산성질소'][mask])"
   ]
  },
  {
   "cell_type": "code",
   "execution_count": 84,
   "metadata": {},
   "outputs": [
    {
     "data": {
      "text/plain": [
       "nan"
      ]
     },
     "execution_count": 84,
     "metadata": {},
     "output_type": "execute_result"
    }
   ],
   "source": [
    "reg_data.loc[4,'질산성질소']"
   ]
  },
  {
   "cell_type": "code",
   "execution_count": 87,
   "metadata": {},
   "outputs": [],
   "source": [
    "reg_data.loc[4, '질산성질소'] = reg_data['일반세균'][4]*slope + intercept"
   ]
  },
  {
   "cell_type": "code",
   "execution_count": 98,
   "metadata": {},
   "outputs": [],
   "source": [
    "# NaN(null) 값을 제외하고 선형회귀 분석 수행\n",
    "# 일반세균이 종속변수 일때 회귀분석\n",
    "slope, intercept, r_value, p_value, std_err = stats.linregress(\n",
    "reg_data['질산성질소'][mask], reg_data['일반세균'][mask])"
   ]
  },
  {
   "cell_type": "code",
   "execution_count": 95,
   "metadata": {},
   "outputs": [],
   "source": [
    "# 질산성질소 값에 의한 일반세균값 산출\n",
    "reg_data.loc[20,'일반세균'] = reg_data['질산성질소'][20]*slope + intercept"
   ]
  },
  {
   "cell_type": "code",
   "execution_count": 106,
   "metadata": {},
   "outputs": [
    {
     "data": {
      "text/html": [
       "<div>\n",
       "<style scoped>\n",
       "    .dataframe tbody tr th:only-of-type {\n",
       "        vertical-align: middle;\n",
       "    }\n",
       "\n",
       "    .dataframe tbody tr th {\n",
       "        vertical-align: top;\n",
       "    }\n",
       "\n",
       "    .dataframe thead th {\n",
       "        text-align: right;\n",
       "    }\n",
       "</style>\n",
       "<table border=\"1\" class=\"dataframe\">\n",
       "  <thead>\n",
       "    <tr style=\"text-align: right;\">\n",
       "      <th></th>\n",
       "      <th>약수터명</th>\n",
       "      <th>동명</th>\n",
       "      <th>총대장균군</th>\n",
       "      <th>일반세균</th>\n",
       "      <th>질산성질소</th>\n",
       "      <th>적합</th>\n",
       "    </tr>\n",
       "    <tr>\n",
       "      <th>연번</th>\n",
       "      <th></th>\n",
       "      <th></th>\n",
       "      <th></th>\n",
       "      <th></th>\n",
       "      <th></th>\n",
       "      <th></th>\n",
       "    </tr>\n",
       "  </thead>\n",
       "  <tbody>\n",
       "    <tr>\n",
       "      <th>4</th>\n",
       "      <td>서당골</td>\n",
       "      <td>모라</td>\n",
       "      <td>음 성</td>\n",
       "      <td>10.000000</td>\n",
       "      <td>3.045076</td>\n",
       "      <td>적합</td>\n",
       "    </tr>\n",
       "    <tr>\n",
       "      <th>20</th>\n",
       "      <td>승학</td>\n",
       "      <td>학장</td>\n",
       "      <td>양 성</td>\n",
       "      <td>31.556376</td>\n",
       "      <td>0.300000</td>\n",
       "      <td>부적합</td>\n",
       "    </tr>\n",
       "  </tbody>\n",
       "</table>\n",
       "</div>"
      ],
      "text/plain": [
       "   약수터명  동명 총대장균군       일반세균     질산성질소   적합\n",
       "연번                                         \n",
       "4   서당골  모라   음 성  10.000000  3.045076   적합\n",
       "20   승학  학장   양 성  31.556376  0.300000  부적합"
      ]
     },
     "execution_count": 106,
     "metadata": {},
     "output_type": "execute_result"
    }
   ],
   "source": [
    "reg_data.query('연번 in (4,20)')"
   ]
  },
  {
   "cell_type": "code",
   "execution_count": 107,
   "metadata": {},
   "outputs": [
    {
     "data": {
      "text/html": [
       "<div>\n",
       "<style scoped>\n",
       "    .dataframe tbody tr th:only-of-type {\n",
       "        vertical-align: middle;\n",
       "    }\n",
       "\n",
       "    .dataframe tbody tr th {\n",
       "        vertical-align: top;\n",
       "    }\n",
       "\n",
       "    .dataframe thead th {\n",
       "        text-align: right;\n",
       "    }\n",
       "</style>\n",
       "<table border=\"1\" class=\"dataframe\">\n",
       "  <thead>\n",
       "    <tr style=\"text-align: right;\">\n",
       "      <th></th>\n",
       "      <th>약수터명</th>\n",
       "      <th>동명</th>\n",
       "      <th>총대장균군</th>\n",
       "      <th>일반세균</th>\n",
       "      <th>질산성질소</th>\n",
       "      <th>적합</th>\n",
       "    </tr>\n",
       "    <tr>\n",
       "      <th>연번</th>\n",
       "      <th></th>\n",
       "      <th></th>\n",
       "      <th></th>\n",
       "      <th></th>\n",
       "      <th></th>\n",
       "      <th></th>\n",
       "    </tr>\n",
       "  </thead>\n",
       "  <tbody>\n",
       "    <tr>\n",
       "      <th>1</th>\n",
       "      <td>백수</td>\n",
       "      <td>모라</td>\n",
       "      <td>양 성</td>\n",
       "      <td>10.000000</td>\n",
       "      <td>6.700000</td>\n",
       "      <td>부적합</td>\n",
       "    </tr>\n",
       "    <tr>\n",
       "      <th>2</th>\n",
       "      <td>이칠</td>\n",
       "      <td>모라</td>\n",
       "      <td>음 성</td>\n",
       "      <td>20.000000</td>\n",
       "      <td>0.900000</td>\n",
       "      <td>적합</td>\n",
       "    </tr>\n",
       "    <tr>\n",
       "      <th>3</th>\n",
       "      <td>운수사</td>\n",
       "      <td>모라</td>\n",
       "      <td>음 성</td>\n",
       "      <td>10.000000</td>\n",
       "      <td>1.100000</td>\n",
       "      <td>적합</td>\n",
       "    </tr>\n",
       "    <tr>\n",
       "      <th>4</th>\n",
       "      <td>서당골</td>\n",
       "      <td>모라</td>\n",
       "      <td>음 성</td>\n",
       "      <td>10.000000</td>\n",
       "      <td>3.045076</td>\n",
       "      <td>적합</td>\n",
       "    </tr>\n",
       "    <tr>\n",
       "      <th>5</th>\n",
       "      <td>청수</td>\n",
       "      <td>괘법</td>\n",
       "      <td>음 성</td>\n",
       "      <td>20.000000</td>\n",
       "      <td>2.700000</td>\n",
       "      <td>적합</td>\n",
       "    </tr>\n",
       "    <tr>\n",
       "      <th>6</th>\n",
       "      <td>사상</td>\n",
       "      <td>괘법</td>\n",
       "      <td>음 성</td>\n",
       "      <td>10.000000</td>\n",
       "      <td>2.200000</td>\n",
       "      <td>적합</td>\n",
       "    </tr>\n",
       "    <tr>\n",
       "      <th>7</th>\n",
       "      <td>탑골</td>\n",
       "      <td>괘법</td>\n",
       "      <td>양 성</td>\n",
       "      <td>10.000000</td>\n",
       "      <td>2.600000</td>\n",
       "      <td>부적합</td>\n",
       "    </tr>\n",
       "    <tr>\n",
       "      <th>8</th>\n",
       "      <td>삼각산</td>\n",
       "      <td>괘법</td>\n",
       "      <td>음 성</td>\n",
       "      <td>10.000000</td>\n",
       "      <td>2.700000</td>\n",
       "      <td>적합</td>\n",
       "    </tr>\n",
       "    <tr>\n",
       "      <th>9</th>\n",
       "      <td>괘내</td>\n",
       "      <td>괘법</td>\n",
       "      <td>음 성</td>\n",
       "      <td>20.000000</td>\n",
       "      <td>3.100000</td>\n",
       "      <td>적합</td>\n",
       "    </tr>\n",
       "    <tr>\n",
       "      <th>10</th>\n",
       "      <td>황씨묘위</td>\n",
       "      <td>감전</td>\n",
       "      <td>음 성</td>\n",
       "      <td>10.000000</td>\n",
       "      <td>3.100000</td>\n",
       "      <td>적합</td>\n",
       "    </tr>\n",
       "    <tr>\n",
       "      <th>11</th>\n",
       "      <td>체육공원</td>\n",
       "      <td>감전</td>\n",
       "      <td>음 성</td>\n",
       "      <td>20.000000</td>\n",
       "      <td>4.000000</td>\n",
       "      <td>적합</td>\n",
       "    </tr>\n",
       "    <tr>\n",
       "      <th>12</th>\n",
       "      <td>건강</td>\n",
       "      <td>주례</td>\n",
       "      <td>음 성</td>\n",
       "      <td>10.000000</td>\n",
       "      <td>1.800000</td>\n",
       "      <td>적합</td>\n",
       "    </tr>\n",
       "    <tr>\n",
       "      <th>13</th>\n",
       "      <td>백양골</td>\n",
       "      <td>주례</td>\n",
       "      <td>양 성</td>\n",
       "      <td>10.000000</td>\n",
       "      <td>2.800000</td>\n",
       "      <td>부적합</td>\n",
       "    </tr>\n",
       "    <tr>\n",
       "      <th>14</th>\n",
       "      <td>백양정</td>\n",
       "      <td>주례</td>\n",
       "      <td>음 성</td>\n",
       "      <td>10.000000</td>\n",
       "      <td>7.500000</td>\n",
       "      <td>적합</td>\n",
       "    </tr>\n",
       "    <tr>\n",
       "      <th>15</th>\n",
       "      <td>승록정</td>\n",
       "      <td>주례</td>\n",
       "      <td>음 성</td>\n",
       "      <td>20.000000</td>\n",
       "      <td>2.300000</td>\n",
       "      <td>부적합</td>\n",
       "    </tr>\n",
       "    <tr>\n",
       "      <th>16</th>\n",
       "      <td>복천</td>\n",
       "      <td>주례</td>\n",
       "      <td>음 성</td>\n",
       "      <td>20.000000</td>\n",
       "      <td>2.400000</td>\n",
       "      <td>적합</td>\n",
       "    </tr>\n",
       "    <tr>\n",
       "      <th>17</th>\n",
       "      <td>밤골</td>\n",
       "      <td>주례</td>\n",
       "      <td>음 성</td>\n",
       "      <td>NaN</td>\n",
       "      <td>NaN</td>\n",
       "      <td>적합</td>\n",
       "    </tr>\n",
       "    <tr>\n",
       "      <th>18</th>\n",
       "      <td>삼운정</td>\n",
       "      <td>주례</td>\n",
       "      <td>음 성</td>\n",
       "      <td>20.000000</td>\n",
       "      <td>3.800000</td>\n",
       "      <td>적합</td>\n",
       "    </tr>\n",
       "    <tr>\n",
       "      <th>19</th>\n",
       "      <td>무명</td>\n",
       "      <td>주례</td>\n",
       "      <td>음 성</td>\n",
       "      <td>110.000000</td>\n",
       "      <td>0.700000</td>\n",
       "      <td>부적합</td>\n",
       "    </tr>\n",
       "    <tr>\n",
       "      <th>20</th>\n",
       "      <td>승학</td>\n",
       "      <td>학장</td>\n",
       "      <td>양 성</td>\n",
       "      <td>31.556376</td>\n",
       "      <td>0.300000</td>\n",
       "      <td>부적합</td>\n",
       "    </tr>\n",
       "    <tr>\n",
       "      <th>21</th>\n",
       "      <td>거북</td>\n",
       "      <td>학장</td>\n",
       "      <td>음 성</td>\n",
       "      <td>20.000000</td>\n",
       "      <td>1.000000</td>\n",
       "      <td>적합</td>\n",
       "    </tr>\n",
       "    <tr>\n",
       "      <th>22</th>\n",
       "      <td>백련</td>\n",
       "      <td>엄궁</td>\n",
       "      <td>양 성</td>\n",
       "      <td>40.000000</td>\n",
       "      <td>1.900000</td>\n",
       "      <td>부적합</td>\n",
       "    </tr>\n",
       "    <tr>\n",
       "      <th>23</th>\n",
       "      <td>불심</td>\n",
       "      <td>엄궁</td>\n",
       "      <td>음 성</td>\n",
       "      <td>20.000000</td>\n",
       "      <td>1.700000</td>\n",
       "      <td>적합</td>\n",
       "    </tr>\n",
       "    <tr>\n",
       "      <th>24</th>\n",
       "      <td>승학</td>\n",
       "      <td>엄궁</td>\n",
       "      <td>음 성</td>\n",
       "      <td>20.000000</td>\n",
       "      <td>2.600000</td>\n",
       "      <td>적합</td>\n",
       "    </tr>\n",
       "  </tbody>\n",
       "</table>\n",
       "</div>"
      ],
      "text/plain": [
       "    약수터명  동명 총대장균군        일반세균     질산성질소   적합\n",
       "연번                                           \n",
       "1     백수  모라   양 성   10.000000  6.700000  부적합\n",
       "2     이칠  모라   음 성   20.000000  0.900000   적합\n",
       "3    운수사  모라   음 성   10.000000  1.100000   적합\n",
       "4    서당골  모라   음 성   10.000000  3.045076   적합\n",
       "5     청수  괘법   음 성   20.000000  2.700000   적합\n",
       "6     사상  괘법   음 성   10.000000  2.200000   적합\n",
       "7     탑골  괘법   양 성   10.000000  2.600000  부적합\n",
       "8    삼각산  괘법   음 성   10.000000  2.700000   적합\n",
       "9     괘내  괘법   음 성   20.000000  3.100000   적합\n",
       "10  황씨묘위  감전   음 성   10.000000  3.100000   적합\n",
       "11  체육공원  감전   음 성   20.000000  4.000000   적합\n",
       "12    건강  주례   음 성   10.000000  1.800000   적합\n",
       "13   백양골  주례   양 성   10.000000  2.800000  부적합\n",
       "14   백양정  주례   음 성   10.000000  7.500000   적합\n",
       "15   승록정  주례   음 성   20.000000  2.300000  부적합\n",
       "16    복천  주례   음 성   20.000000  2.400000   적합\n",
       "17    밤골  주례   음 성         NaN       NaN   적합\n",
       "18   삼운정  주례   음 성   20.000000  3.800000   적합\n",
       "19    무명  주례   음 성  110.000000  0.700000  부적합\n",
       "20    승학  학장   양 성   31.556376  0.300000  부적합\n",
       "21    거북  학장   음 성   20.000000  1.000000   적합\n",
       "22    백련  엄궁   양 성   40.000000  1.900000  부적합\n",
       "23    불심  엄궁   음 성   20.000000  1.700000   적합\n",
       "24    승학  엄궁   음 성   20.000000  2.600000   적합"
      ]
     },
     "execution_count": 107,
     "metadata": {},
     "output_type": "execute_result"
    }
   ],
   "source": [
    "reg_data"
   ]
  }
 ],
 "metadata": {
  "kernelspec": {
   "display_name": "Python 3",
   "language": "python",
   "name": "python3"
  },
  "language_info": {
   "codemirror_mode": {
    "name": "ipython",
    "version": 3
   },
   "file_extension": ".py",
   "mimetype": "text/x-python",
   "name": "python",
   "nbconvert_exporter": "python",
   "pygments_lexer": "ipython3",
   "version": "3.6.2"
  }
 },
 "nbformat": 4,
 "nbformat_minor": 4
}
